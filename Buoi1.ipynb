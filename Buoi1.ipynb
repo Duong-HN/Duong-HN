{
  "cells": [
    {
      "cell_type": "markdown",
      "metadata": {
        "id": "view-in-github",
        "colab_type": "text"
      },
      "source": [
        "<a href=\"https://colab.research.google.com/github/Duong-HN/Duong-HN/blob/main/Buoi1.ipynb\" target=\"_parent\"><img src=\"https://colab.research.google.com/assets/colab-badge.svg\" alt=\"Open In Colab\"/></a>"
      ]
    },
    {
      "cell_type": "markdown",
      "metadata": {
        "id": "59KByPqAVqoa"
      },
      "source": [
        "## Bài 1: Hàm Tính Trung Bình (Average Function)\n",
        "\n",
        "Yêu cầu: Viết hàm average nhận 5 tham số và trả về giá trị trung bình cộng của chúng.\n",
        "\n",
        "💡 Gợi ý:\n",
        "\n",
        "\n",
        "*   Sử dụng toán tử + để cộng các số\n",
        "*   Chia tổng cho 5 để tính trung bình\n",
        "*   Có thể sử dụng *args để nhận số lượng tham số linh hoạt\n",
        "\n",
        "\n",
        "\n"
      ]
    },
    {
      "cell_type": "code",
      "execution_count": 26,
      "metadata": {
        "id": "Vb6kKZcCVcUL"
      },
      "outputs": [],
      "source": [
        "# code\n",
        "\n",
        "def average(a, b, c, d, e):\n",
        "    return (a + b + c + d + e) / 5"
      ]
    },
    {
      "cell_type": "code",
      "execution_count": 27,
      "metadata": {
        "colab": {
          "base_uri": "https://localhost:8080/"
        },
        "id": "iAGOhJniWFrI",
        "outputId": "0e929366-4321-4fa5-af1c-a8b522b4e0ee"
      },
      "outputs": [
        {
          "output_type": "stream",
          "name": "stdout",
          "text": [
            "30.0\n"
          ]
        }
      ],
      "source": [
        "# Test\n",
        "print(average(10, 20, 30, 40, 50))  # Output: 30.0"
      ]
    },
    {
      "cell_type": "markdown",
      "metadata": {
        "id": "SmB6qYe0WMFq"
      },
      "source": [
        "## Bài 2: Tính Diện Tích Tam Giác (Công Thức Heron)\n",
        "Yêu cầu: Viết hàm area trả về diện tích tam giác khi biết độ dài ba cạnh.\n",
        "Gợi ý:\n",
        "* Sử dụng công thức Heron: S = √[p(p-a)(p-b)(p-c)]\n",
        "* Trong đó p = (a + b + c) / 2 là nửa chu vi\n",
        "* Import math.sqrt để tính căn bậc hai\n",
        "* Kiểm tra điều kiện tam giác hợp lệ"
      ]
    },
    {
      "cell_type": "code",
      "execution_count": 28,
      "metadata": {
        "id": "ETbPfX-WWKg3"
      },
      "outputs": [],
      "source": [
        "import math\n",
        "\n",
        "def area(a, b, c):\n",
        "    # Kiểm tra điều kiện tam giác hợp lệ\n",
        "    if a + b <= c or a + c <= b or b + c <= a:\n",
        "        raise ValueError(\"Ba cạnh không tạo thành tam giác hợp lệ\")\n",
        "\n",
        "    p = (a + b + c) / 2\n",
        "    s = math.sqrt(p * (p - a) * (p - b) * (p - c))\n",
        "    return s"
      ]
    },
    {
      "cell_type": "code",
      "execution_count": 29,
      "metadata": {
        "id": "4-LIJhOjWaUF",
        "colab": {
          "base_uri": "https://localhost:8080/"
        },
        "outputId": "230237e4-4865-4144-dcaa-c546cbad091c"
      },
      "outputs": [
        {
          "output_type": "stream",
          "name": "stdout",
          "text": [
            "Diện tích tam giác (3, 4, 5): 6.00\n",
            "Diện tích tam giác (5, 12, 13): 30.00\n"
          ]
        }
      ],
      "source": [
        "# Test\n",
        "print(f\"Diện tích tam giác (3, 4, 5): {area(3, 4, 5):.2f}\")  # Output: 6.00\n",
        "print(f\"Diện tích tam giác (5, 12, 13): {area(5, 12, 13):.2f}\")  # Output: 30.00"
      ]
    },
    {
      "cell_type": "markdown",
      "metadata": {
        "id": "peBSSvd3XDfQ"
      },
      "source": [
        "## Bài 3: Diện Tích Tam Giác từ Tọa Độ\n",
        "Yêu cầu: Viết hàm area2 tính diện tích tam giác khi biết tọa độ (x, y) của ba đỉnh.\n",
        "\n",
        "💡 Gợi ý:\n",
        "* Công thức: S = |x1(y2-y3) + x2(y3-y1) + x3(y1-y2)| / 2\n",
        "* Sử dụng abs() để lấy giá trị tuyệt đối\n",
        "* Có thể nhận tọa độ dưới dạng tuple hoặc tham số riêng"
      ]
    },
    {
      "cell_type": "code",
      "execution_count": 30,
      "metadata": {
        "id": "Wr7TwjhbXLUA"
      },
      "outputs": [],
      "source": [
        "def area2(x1, y1, x2, y2, x3, y3):\n",
        "    return abs(x1*(y2 - y3) + x2*(y3 - y1) + x3*(y1 - y2)) / 2"
      ]
    },
    {
      "cell_type": "code",
      "execution_count": 31,
      "metadata": {
        "colab": {
          "base_uri": "https://localhost:8080/"
        },
        "id": "HWoJHUu6XQOd",
        "outputId": "8d119b5a-0744-4936-8b2d-f4c4c2170efb"
      },
      "outputs": [
        {
          "output_type": "stream",
          "name": "stdout",
          "text": [
            "Diện tích: 6.0\n"
          ]
        }
      ],
      "source": [
        "# Test\n",
        "print(f\"Diện tích: {area2(0, 0, 4, 0, 0, 3)}\")  # Output: 6.0"
      ]
    },
    {
      "cell_type": "markdown",
      "metadata": {
        "id": "ZLqTLKDuX0Zo"
      },
      "source": [
        "## Bài 4: Tổng Các Chữ Số\n",
        "Yêu cầu: Viết hàm total nhận số nguyên N và trả về tổng các chữ số của N.\n",
        "\n",
        "Ví dụ: N = 132 → trả về 6 (1 + 3 + 2)\n",
        "\n",
        "💡 Gợi ý:\n",
        "*  Cách 1: Chuyển số thành string và duyệt từng ký tự\n",
        "* Cách 2: Dùng phép chia và chia lấy dư (% 10 và // 10)\n",
        "* Xử lý số âm bằng abs()\n"
      ]
    },
    {
      "cell_type": "code",
      "execution_count": 32,
      "metadata": {
        "id": "8Gu1HlPWXSMd"
      },
      "outputs": [],
      "source": [
        "def total(n):\n",
        "    return sum(int(digit) for digit in str(abs(n)))\n"
      ]
    },
    {
      "cell_type": "code",
      "execution_count": 33,
      "metadata": {
        "colab": {
          "base_uri": "https://localhost:8080/"
        },
        "id": "6hx3V-NkYD7l",
        "outputId": "2d47d773-99ae-4ebc-c724-b4d71d7d6f39"
      },
      "outputs": [
        {
          "output_type": "stream",
          "name": "stdout",
          "text": [
            "Tổng chữ số của 132: 6\n",
            "Tổng chữ số của 9875: 29\n",
            "Tổng chữ số của -456: 15\n"
          ]
        }
      ],
      "source": [
        "# Test\n",
        "print(f\"Tổng chữ số của 132: {total(132)}\")  # Output: 6\n",
        "print(f\"Tổng chữ số của 9875: {total(9875)}\")  # Output: 29\n",
        "print(f\"Tổng chữ số của -456: {total(-456)}\")  # Output: 15"
      ]
    },
    {
      "cell_type": "markdown",
      "metadata": {
        "id": "TFJOoqoyYJh-"
      },
      "source": [
        "## Bài 5: Kiểm Tra Số Fibonacci\n",
        "\n",
        "Yêu cầu: Viết hàm isFibo kiểm tra số N có phải là số Fibonacci không.\n",
        "\n",
        "Trả về True nếu đúng, False nếu sai.\n",
        "\n",
        "💡 Gợi ý:\n",
        "* Dãy Fibonacci: 0, 1, 1, 2, 3, 5, 8, 13, 21...\n",
        "* Cách 1: Tạo dãy Fibonacci cho đến khi >= N\n",
        "* Cách 2: Kiểm tra công thức toán học (5*n² ± 4 là số chính phương)"
      ]
    },
    {
      "cell_type": "code",
      "source": [
        "import math\n",
        "\n",
        "def isFibo(n):\n",
        "    def is_perfect_square(x):\n",
        "        return int(math.sqrt(x))**2 == x\n",
        "\n",
        "    return is_perfect_square(5*n*n + 4) or is_perfect_square(5*n*n - 4)\n"
      ],
      "metadata": {
        "id": "JRk5NRatJeo7"
      },
      "execution_count": 34,
      "outputs": []
    },
    {
      "cell_type": "code",
      "source": [
        "# Test\n",
        "print(f\"13 là số Fibonacci: {isFibo(13)}\")  # Output: True\n",
        "print(f\"15 là số Fibonacci: {isFibo(15)}\")  # Output: False"
      ],
      "metadata": {
        "id": "Z5oxOLleJi7H",
        "outputId": "f578a9a2-698e-47ea-dd6f-9b19f7787bf7",
        "colab": {
          "base_uri": "https://localhost:8080/"
        }
      },
      "execution_count": 35,
      "outputs": [
        {
          "output_type": "stream",
          "name": "stdout",
          "text": [
            "13 là số Fibonacci: True\n",
            "15 là số Fibonacci: False\n"
          ]
        }
      ]
    },
    {
      "cell_type": "markdown",
      "metadata": {
        "id": "7MN5zg3bZGkO"
      },
      "source": [
        "## Bài 6: Tổng Giai Thừa\n",
        "\n",
        "Yêu cầu: Nhập số nguyên dương N và tính F(N) = 1! + 2! + ... + N!\n",
        "\n",
        "💡 Gợi ý:\n",
        "* Viết hàm tính giai thừa riêng\n",
        "* Có thể dùng math.factorial()\n",
        "* Tối ưu: tính giai thừa tiếp theo dựa vào giai thừa trước\n"
      ]
    },
    {
      "cell_type": "code",
      "execution_count": 36,
      "metadata": {
        "id": "f5FV3ac3YHnb"
      },
      "outputs": [],
      "source": [
        "# Cách 2: Tự viết hàm factorial\n",
        "def factorial(n):\n",
        "    result = 1\n",
        "    for i in range(2, n + 1):\n",
        "        result *= i\n",
        "    return result\n",
        "\n",
        "def sum_factorials(n):\n",
        "    return sum(factorial(i) for i in range(1, n + 1))\n",
        "\n"
      ]
    },
    {
      "cell_type": "code",
      "execution_count": 37,
      "metadata": {
        "colab": {
          "base_uri": "https://localhost:8080/"
        },
        "id": "gfacoQoXZaY7",
        "outputId": "0b838790-8ba9-4790-b111-398a3bb4038d"
      },
      "outputs": [
        {
          "output_type": "stream",
          "name": "stdout",
          "text": [
            "Nhập số nguyên dương N: 5\n",
            "F(5) = 153\n"
          ]
        }
      ],
      "source": [
        "# Main program\n",
        "n = int(input(\"Nhập số nguyên dương N: \"))\n",
        "result = sum_factorials(n)\n",
        "print(f\"F({n}) = {result}\")\n",
        "\n",
        "# Test với N = 5: 1! + 2! + 3! + 4! + 5! = 1 + 2 + 6 + 24 + 120 = 153"
      ]
    },
    {
      "cell_type": "markdown",
      "metadata": {
        "id": "tyT0UmCUZfa1"
      },
      "source": [
        "## Bài 7: Xếp Loại Học Tập\n",
        "\n",
        "Yêu cầu: Nhập điểm trung bình và xếp loại theo quy tắc:\n",
        "* Dưới 3.5: Yếu\n",
        "* 3.5 đến dưới 5: Kém\n",
        "* 5 đến dưới 6.5: Trung bình\n",
        "* 6.5 đến dưới 8: Khá\n",
        "* 8 đến dưới 9: Giỏi\n",
        "* 9 trở lên: Xuất sắc\n",
        "\n",
        "\n",
        "💡 Gợi ý:\n",
        "* Sử dụng cấu trúc if-elif-else\n",
        "* Kiểm tra điều kiện từ cao xuống thấp hoặc ngược lại\n",
        "* Validate điểm nhập vào (0-10)"
      ]
    },
    {
      "cell_type": "code",
      "execution_count": 38,
      "metadata": {
        "id": "aKRDIaDxZcjf"
      },
      "outputs": [],
      "source": [
        "def classify_grade(score):\n",
        "    if score < 0 or score > 10:\n",
        "        return \"Điểm không hợp lệ\"\n",
        "    elif score < 3.5:\n",
        "        return \"Yếu\"\n",
        "    elif score < 5:\n",
        "        return \"Kém\"\n",
        "    elif score < 6.5:\n",
        "        return \"Trung bình\"\n",
        "    elif score < 8:\n",
        "        return \"Khá\"\n",
        "    elif score < 9:\n",
        "        return \"Giỏi\"\n",
        "    else:\n",
        "        return \"Xuất sắc\""
      ]
    },
    {
      "cell_type": "code",
      "execution_count": 39,
      "metadata": {
        "id": "3rdi_yA1ZwXm",
        "colab": {
          "base_uri": "https://localhost:8080/"
        },
        "outputId": "1d65d4ae-9b4b-4359-98a5-ab963bc65efb"
      },
      "outputs": [
        {
          "output_type": "stream",
          "name": "stdout",
          "text": [
            "Nhập điểm trung bình (0-10): 2\n",
            "Điểm: 2.0 - Xếp loại: Yếu\n",
            "\n",
            "Bảng xếp loại mẫu:\n",
            "Điểm 2.5: Yếu\n",
            "Điểm 3.5: Kém\n",
            "Điểm 4.5: Kém\n",
            "Điểm 5.5: Trung bình\n",
            "Điểm 7.0: Khá\n",
            "Điểm 8.5: Giỏi\n",
            "Điểm 9.5: Xuất sắc\n"
          ]
        }
      ],
      "source": [
        "# Main program\n",
        "try:\n",
        "    score = float(input(\"Nhập điểm trung bình (0-10): \"))\n",
        "    classification = classify_grade(score)\n",
        "    print(f\"Điểm: {score} - Xếp loại: {classification}\")\n",
        "except ValueError:\n",
        "    print(\"Vui lòng nhập số hợp lệ!\")\n",
        "\n",
        "# Test cases\n",
        "test_scores = [2.5, 3.5, 4.5, 5.5, 7.0, 8.5, 9.5]\n",
        "print(\"\\nBảng xếp loại mẫu:\")\n",
        "for score in test_scores:\n",
        "    print(f\"Điểm {score}: {classify_grade(score)}\")"
      ]
    },
    {
      "cell_type": "markdown",
      "metadata": {
        "id": "Tiqme2cgZy3P"
      },
      "source": [
        "## Bài 8: Tìm Giá Trị Lớn Nhất và Xử Lý Trùng\n",
        "\n",
        "Yêu cầu: Nhập 3 số a, b, c:\n",
        "\n",
        "* In ra giá trị lớn nhất\n",
        "* Nếu có ít nhất 2 số bằng giá trị lớn nhất, in ra số còn lại\n",
        "\n",
        "💡 Gợi ý:\n",
        "* Dùng max() để tìm giá trị lớn nhất\n",
        "* Đếm số lần xuất hiện của giá trị lớn nhất\n",
        "* Xử lý các trường hợp đặc biệt"
      ]
    },
    {
      "cell_type": "code",
      "execution_count": 40,
      "metadata": {
        "id": "14Wlhxc0Z9UD"
      },
      "outputs": [],
      "source": [
        "def process_three_numbers(a, b, c):\n",
        "    max_val = max(a, b, c)\n",
        "    count = [a, b, c].count(max_val)\n",
        "    print(f\"Giá trị lớn nhất: {max_val}\")\n",
        "    if count >= 2:\n",
        "        others = [x for x in [a, b, c] if x != max_val]\n",
        "        if others:\n",
        "            print(f\"Số còn lại: {others[0]}\")\n",
        "        else:\n",
        "            print(\"Cả ba số đều bằng nhau\")\n"
      ]
    },
    {
      "cell_type": "code",
      "execution_count": 41,
      "metadata": {
        "colab": {
          "base_uri": "https://localhost:8080/"
        },
        "id": "kh08ddC9azIZ",
        "outputId": "eca09b93-d67f-42ca-dc84-8f75581a5ad1"
      },
      "outputs": [
        {
          "output_type": "stream",
          "name": "stdout",
          "text": [
            "Nhập số a: 1\n",
            "Nhập số b: 2\n",
            "Nhập số c: 3\n",
            "Giá trị lớn nhất: 3.0\n",
            "\n",
            "--- Test Cases ---\n",
            "Test 1: a=5, b=5, c=3\n",
            "Giá trị lớn nhất: 5\n",
            "Số còn lại: 3\n",
            "\n",
            "Test 2: a=7, b=7, c=7\n",
            "Giá trị lớn nhất: 7\n",
            "Cả ba số đều bằng nhau\n",
            "\n",
            "Test 3: a=1, b=2, c=3\n",
            "Giá trị lớn nhất: 3\n"
          ]
        }
      ],
      "source": [
        "# Main program\n",
        "try:\n",
        "    a = float(input(\"Nhập số a: \"))\n",
        "    b = float(input(\"Nhập số b: \"))\n",
        "    c = float(input(\"Nhập số c: \"))\n",
        "\n",
        "    process_three_numbers(a, b, c)\n",
        "\n",
        "except ValueError:\n",
        "    print(\"Vui lòng nhập số hợp lệ!\")\n",
        "\n",
        "# Test cases\n",
        "print(\"\\n--- Test Cases ---\")\n",
        "print(\"Test 1: a=5, b=5, c=3\")\n",
        "process_three_numbers(5, 5, 3)\n",
        "print(\"\\nTest 2: a=7, b=7, c=7\")\n",
        "process_three_numbers(7, 7, 7)\n",
        "print(\"\\nTest 3: a=1, b=2, c=3\")\n",
        "process_three_numbers(1, 2, 3)"
      ]
    },
    {
      "cell_type": "markdown",
      "metadata": {
        "id": "OF9wcE_1byJn"
      },
      "source": [
        "## Bài 9: Tính Ngày Tiếp Theo\n",
        "\n",
        "Yêu cầu: Nhập ngày (d), tháng (m), năm (y) và tính ngày tiếp theo.\n",
        "Ví dụ: 31/1/2019 → 1/2/2019\n",
        "\n",
        "\n",
        "💡 Gợi ý:\n",
        "* Xử lý số ngày trong mỗi tháng\n",
        "* Kiểm tra năm nhuận cho tháng 2\n",
        "* Xử lý chuyển tháng và chuyển năm\n",
        "* Có thể dùng module datetime để đơn giản hóa"
      ]
    },
    {
      "cell_type": "code",
      "execution_count": 42,
      "metadata": {
        "id": "PkZa8fjzbomE"
      },
      "outputs": [],
      "source": [
        "def is_leap_year(year):\n",
        "    return year % 4 == 0 and (year % 100 != 0 or year % 400 == 0)\n",
        "\n",
        "def days_in_month(month, year):\n",
        "    if month == 2:\n",
        "        return 29 if is_leap_year(year) else 28\n",
        "    elif month in [4, 6, 9, 11]:\n",
        "        return 30\n",
        "    else:\n",
        "        return 31\n",
        "\n",
        "def next_day(day, month, year):\n",
        "    day += 1\n",
        "    if day > days_in_month(month, year):\n",
        "        day = 1\n",
        "        month += 1\n",
        "        if month > 12:\n",
        "            month = 1\n",
        "            year += 1\n",
        "    return f\"{day}/{month}/{year}\"\n"
      ]
    },
    {
      "cell_type": "code",
      "execution_count": 43,
      "metadata": {
        "id": "RGEtAEikcG13",
        "colab": {
          "base_uri": "https://localhost:8080/"
        },
        "outputId": "8658400f-6179-4540-9c55-29462454b08f"
      },
      "outputs": [
        {
          "output_type": "stream",
          "name": "stdout",
          "text": [
            "Nhập ngày: 25\n",
            "Nhập tháng: 12\n",
            "Nhập năm: 2004\n",
            "Ngày tiếp theo: 26/12/2004\n",
            "\n",
            "--- Test Cases ---\n",
            "31/1/2019 → 1/2/2019\n",
            "28/2/2020 → 29/2/2020\n",
            "31/12/2019 → 1/1/2020\n"
          ]
        }
      ],
      "source": [
        "# Main program\n",
        "try:\n",
        "    d = int(input(\"Nhập ngày: \"))\n",
        "    m = int(input(\"Nhập tháng: \"))\n",
        "    y = int(input(\"Nhập năm: \"))\n",
        "\n",
        "    result = next_day(d, m, y)\n",
        "    print(f\"Ngày tiếp theo: {result}\")\n",
        "\n",
        "except ValueError:\n",
        "    print(\"Vui lòng nhập số nguyên hợp lệ!\")\n",
        "\n",
        "# Test cases\n",
        "print(\"\\n--- Test Cases ---\")\n",
        "test_cases = [\n",
        "    (31, 1, 2019),   # Cuối tháng\n",
        "    (28, 2, 2020),   # Tháng 2 năm nhuận\n",
        "    (31, 12, 2019),  # Cuối năm\n",
        "]\n",
        "for d, m, y in test_cases:\n",
        "    print(f\"{d}/{m}/{y} → {next_day(d, m, y)}\")"
      ]
    },
    {
      "cell_type": "markdown",
      "metadata": {
        "id": "cIEu6yhycM9D"
      },
      "source": [
        "## Bài 10: Giải Phương Trình Bậc 2\n",
        "\n",
        "Yêu cầu: Viết chương trình giải phương trình bậc 2: ax² + bx + c = 0\n",
        "Xử lý đầy đủ các trường hợp đặc biệt.\n",
        "\n",
        "💡 Gợi ý:\n",
        "* Kiểm tra a = 0 (phương trình bậc 1)\n",
        "* Tính delta = b² - 4ac\n",
        "* Xét 3 trường hợp: delta > 0, delta = 0, delta < 0\n",
        "* Sử dụng cmath cho nghiệm phức"
      ]
    },
    {
      "cell_type": "code",
      "execution_count": 44,
      "metadata": {
        "id": "P2_7NGZxcUNC"
      },
      "outputs": [],
      "source": [
        "import math\n",
        "import cmath\n",
        "\n",
        "def solve_quadratic(a, b, c):\n",
        "    if a == 0:\n",
        "        if b == 0:\n",
        "            return (float('inf') if c == 0 else 0, [])\n",
        "        else:\n",
        "            return (1, [-c / b])\n",
        "    delta = b**2 - 4*a*c\n",
        "    sqrt_delta = cmath.sqrt(delta)\n",
        "    x1 = (-b + sqrt_delta) / (2*a)\n",
        "    x2 = (-b - sqrt_delta) / (2*a)\n",
        "    if delta == 0:\n",
        "        return (1, [x1])\n",
        "    else:\n",
        "        return (2, [x1, x2])\n"
      ]
    },
    {
      "cell_type": "code",
      "execution_count": 45,
      "metadata": {
        "colab": {
          "base_uri": "https://localhost:8080/"
        },
        "id": "1DsuqdRFca6s",
        "outputId": "240547be-ba7b-4f3d-c43b-1778dc7f14f2"
      },
      "outputs": [
        {
          "output_type": "stream",
          "name": "stdout",
          "text": [
            "GIẢI PHƯƠNG TRÌNH BẬC 2\n",
            "------------------------------\n",
            "Nhập hệ số a: 1\n",
            "Nhập hệ số b: 2\n",
            "Nhập hệ số c: 3\n",
            "\n",
            "Phương trình: 1.0x² + 2.0x + 3.0 = 0\n",
            "Hai nghiệm phức:\n",
            "  x1 = (-1+1.4142135623730951j)\n",
            "  x2 = (-1-1.4142135623730951j)\n",
            "\n",
            "==================================================\n",
            "TEST CASES\n",
            "==================================================\n",
            "\n",
            "Phương trình: 1x² + -5x + 6 = 0\n",
            "Hai nghiệm phức:\n",
            "  x1 = (3+0j)\n",
            "  x2 = (2+0j)\n",
            "\n",
            "Phương trình: 1x² + -6x + 9 = 0\n",
            "Nghiệm kép phức: x = (3+0j)\n",
            "\n",
            "Phương trình: 1x² + 2x + 5 = 0\n",
            "Hai nghiệm phức:\n",
            "  x1 = (-1+2j)\n",
            "  x2 = (-1-2j)\n",
            "\n",
            "Phương trình: 0x² + 2x + -4 = 0\n",
            "Nghiệm kép: x = 2.0000\n",
            "\n",
            "Phương trình: 0x² + 0x + 0 = 0\n",
            "Kết quả: Vô số nghiệm\n",
            "\n",
            "Phương trình: 0x² + 0x + 5 = 0\n",
            "Kết quả: Vô nghiệm\n"
          ]
        }
      ],
      "source": [
        "def format_solution(a, b, c):\n",
        "    \"\"\"Format và in kết quả\"\"\"\n",
        "    print(f\"\\nPhương trình: {a}x² + {b}x + {c} = 0\")\n",
        "\n",
        "    num_solutions, solutions = solve_quadratic(a, b, c)\n",
        "\n",
        "    if num_solutions == float('inf'):\n",
        "        print(\"Kết quả: Vô số nghiệm\")\n",
        "    elif num_solutions == 0:\n",
        "        print(\"Kết quả: Vô nghiệm\")\n",
        "    elif num_solutions == 1:\n",
        "        if isinstance(solutions[0], complex):\n",
        "            print(f\"Nghiệm kép phức: x = {solutions[0]}\")\n",
        "        else:\n",
        "            print(f\"Nghiệm kép: x = {solutions[0]:.4f}\")\n",
        "    else:\n",
        "        if isinstance(solutions[0], complex):\n",
        "            print(\"Hai nghiệm phức:\")\n",
        "            print(f\"  x1 = {solutions[0]}\")\n",
        "            print(f\"  x2 = {solutions[1]}\")\n",
        "        else:\n",
        "            print(\"Hai nghiệm thực phân biệt:\")\n",
        "            print(f\"  x1 = {solutions[0]:.4f}\")\n",
        "            print(f\"  x2 = {solutions[1]:.4f}\")\n",
        "\n",
        "# Main program\n",
        "print(\"GIẢI PHƯƠNG TRÌNH BẬC 2\")\n",
        "print(\"-\" * 30)\n",
        "\n",
        "try:\n",
        "    a = float(input(\"Nhập hệ số a: \"))\n",
        "    b = float(input(\"Nhập hệ số b: \"))\n",
        "    c = float(input(\"Nhập hệ số c: \"))\n",
        "\n",
        "    format_solution(a, b, c)\n",
        "\n",
        "except ValueError:\n",
        "    print(\"Vui lòng nhập số hợp lệ!\")\n",
        "\n",
        "# Test cases\n",
        "print(\"\\n\" + \"=\"*50)\n",
        "print(\"TEST CASES\")\n",
        "print(\"=\"*50)\n",
        "\n",
        "test_cases = [\n",
        "    (1, -5, 6),    # 2 nghiệm: x = 3, x = 2\n",
        "    (1, -6, 9),    # Nghiệm kép: x = 3\n",
        "    (1, 2, 5),     # Nghiệm phức\n",
        "    (0, 2, -4),    # Phương trình bậc 1: x = 2\n",
        "    (0, 0, 0),     # Vô số nghiệm\n",
        "    (0, 0, 5),     # Vô nghiệm\n",
        "]\n",
        "\n",
        "for a, b, c in test_cases:\n",
        "    format_solution(a, b, c)"
      ]
    },
    {
      "cell_type": "code",
      "execution_count": 46,
      "metadata": {
        "id": "vaMmYH4ecccQ"
      },
      "outputs": [],
      "source": [
        "def tich(a:int, b:int=10):\n",
        "  if type(a) != int or type(b) != int:\n",
        "    return \"Vui lòng nhập số nguyên\"\n",
        "  return a*b"
      ]
    },
    {
      "cell_type": "code",
      "execution_count": 47,
      "metadata": {
        "colab": {
          "base_uri": "https://localhost:8080/"
        },
        "id": "2IDGQ5pnQYuO",
        "outputId": "3a13e38f-ff5e-4577-a968-2dbaa88f5da9"
      },
      "outputs": [
        {
          "output_type": "stream",
          "name": "stdout",
          "text": [
            "20\n"
          ]
        }
      ],
      "source": [
        "b = tich(a=5, b=4)\n",
        "print(b)"
      ]
    },
    {
      "cell_type": "code",
      "execution_count": 48,
      "metadata": {
        "colab": {
          "base_uri": "https://localhost:8080/"
        },
        "id": "w88R96peQeja",
        "outputId": "c24b38f2-2d61-4e20-f116-b21adb6812da"
      },
      "outputs": [
        {
          "output_type": "stream",
          "name": "stdout",
          "text": [
            "Het to len\n"
          ]
        }
      ],
      "source": [
        "def speak_out_loud():\n",
        "  print(\"Het to len\")\n",
        "\n",
        "a = speak_out_loud()"
      ]
    },
    {
      "cell_type": "code",
      "execution_count": 49,
      "metadata": {
        "colab": {
          "base_uri": "https://localhost:8080/"
        },
        "id": "8ySVAvfVRbyB",
        "outputId": "29515141-c4dd-4a60-ca63-01380b604a69"
      },
      "outputs": [
        {
          "output_type": "execute_result",
          "data": {
            "text/plain": [
              "True"
            ]
          },
          "metadata": {},
          "execution_count": 49
        }
      ],
      "source": [
        "a == None"
      ]
    },
    {
      "cell_type": "code",
      "execution_count": 50,
      "metadata": {
        "id": "vb-TrLboRgBI"
      },
      "outputs": [],
      "source": [
        "def phep_tinh(a,b):\n",
        "  return a*b, \"haha\", a/b, [1,2,3,4]"
      ]
    },
    {
      "cell_type": "code",
      "execution_count": 51,
      "metadata": {
        "id": "GbrhY7O3R6Yb"
      },
      "outputs": [],
      "source": [
        "tich, speak, thuong, lis =phep_tinh(3,4)"
      ]
    },
    {
      "cell_type": "code",
      "execution_count": 52,
      "metadata": {
        "colab": {
          "base_uri": "https://localhost:8080/",
          "height": 36
        },
        "id": "kMkM6jEFR858",
        "outputId": "9c582b5c-28ea-440e-b662-19b6857aa90a"
      },
      "outputs": [
        {
          "output_type": "execute_result",
          "data": {
            "text/plain": [
              "'haha'"
            ],
            "application/vnd.google.colaboratory.intrinsic+json": {
              "type": "string"
            }
          },
          "metadata": {},
          "execution_count": 52
        }
      ],
      "source": [
        "speak"
      ]
    },
    {
      "cell_type": "code",
      "execution_count": 53,
      "metadata": {
        "id": "flHofESbSHAN"
      },
      "outputs": [],
      "source": [
        "def tich(*n_so):\n",
        "  tich = 1\n",
        "  for so in n_so:\n",
        "    tich *= so\n",
        "  return tich\n"
      ]
    },
    {
      "cell_type": "code",
      "execution_count": 54,
      "metadata": {
        "colab": {
          "base_uri": "https://localhost:8080/"
        },
        "id": "6lUOkMgGSuFt",
        "outputId": "17272a6a-1908-4979-a209-c66907640b89"
      },
      "outputs": [
        {
          "output_type": "execute_result",
          "data": {
            "text/plain": [
              "725760"
            ]
          },
          "metadata": {},
          "execution_count": 54
        }
      ],
      "source": [
        "tich(1,2,3,4,5,6,6,6,7,4)"
      ]
    },
    {
      "cell_type": "code",
      "execution_count": 55,
      "metadata": {
        "colab": {
          "base_uri": "https://localhost:8080/"
        },
        "id": "A7n1E7zRSwy-",
        "outputId": "f24bd054-3797-4a22-f322-1ac8e7134f36"
      },
      "outputs": [
        {
          "output_type": "stream",
          "name": "stdout",
          "text": [
            "Hello nam, thuy\n"
          ]
        }
      ],
      "source": [
        "def say_hellos(name):\n",
        "  print(f\"Hello {name}\")\n",
        "\n",
        "def say_hellos(name1,name2):\n",
        "  print(f\"Hello {name1}, {name2}\")\n",
        "\n",
        "say_hellos(\"nam\", \"thuy\")"
      ]
    },
    {
      "cell_type": "markdown",
      "metadata": {
        "id": "zpHHR1etUt3Z"
      },
      "source": [
        "Tính lãi kép\n",
        "![image.png](data:image/png;base64,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)"
      ]
    },
    {
      "cell_type": "code",
      "execution_count": 56,
      "metadata": {
        "colab": {
          "base_uri": "https://localhost:8080/"
        },
        "id": "GdF8zwG6TYAN",
        "outputId": "af813d31-e725-48c6-a4e7-dd2856395238"
      },
      "outputs": [
        {
          "output_type": "stream",
          "name": "stdout",
          "text": [
            " Tong tien co duoc cua so tien goc = 1000000, 10 nam la = 16444745.635659888\n"
          ]
        }
      ],
      "source": [
        "#\n",
        "def tinh_tong_tien(so_nam, original_tien, lai_suat=5.1):\n",
        "  tongtien=original_tien*(1+lai_suat/100)**so_nam\n",
        "  return tongtien\n",
        "\n",
        "def tinh_so_nam(original_tien, target, lai_suat=5.1):\n",
        "  return ...\n",
        "\n",
        "print(f\" Tong tien co duoc cua so tien goc = 1000000, 10 nam la = {tinh_tong_tien(10, 10000000)}\")"
      ]
    },
    {
      "cell_type": "code",
      "execution_count": 57,
      "metadata": {
        "colab": {
          "base_uri": "https://localhost:8080/"
        },
        "id": "9yIN27MjXOfB",
        "outputId": "312bfc70-a16f-43e9-b2af-bd83db000f19"
      },
      "outputs": [
        {
          "output_type": "execute_result",
          "data": {
            "text/plain": [
              "16444745.63565989"
            ]
          },
          "metadata": {},
          "execution_count": 57
        }
      ],
      "source": [
        "#\n",
        "def tinh_tong_tien(so_nam, original_tien, lai_suat=5.1):\n",
        "  tongtien=original_tien\n",
        "  for i in range(so_nam):\n",
        "    tongtien=tongtien*(1+lai_suat/100)\n",
        "  return tongtien\n",
        "\n",
        "\n",
        "tinh_tong_tien(10, 10000000)"
      ]
    },
    {
      "cell_type": "code",
      "execution_count": 58,
      "metadata": {
        "colab": {
          "base_uri": "https://localhost:8080/"
        },
        "id": "AG9hZDd-Xm3x",
        "outputId": "65aaad0a-357f-4c76-8891-42757fdc7136"
      },
      "outputs": [
        {
          "output_type": "stream",
          "name": "stdout",
          "text": [
            "13\n"
          ]
        }
      ],
      "source": [
        "def tinh_so_nam(original_tien, target, lai_suat=5.1):\n",
        "  tongtien = original_tien\n",
        "  for i in range(1000):\n",
        "    tongtien=tongtien*(1+lai_suat/100)\n",
        "    if tongtien>=target:\n",
        "      return i\n",
        "\n",
        "\n",
        "print(tinh_so_nam(10000000,20000000))"
      ]
    },
    {
      "cell_type": "code",
      "execution_count": 59,
      "metadata": {
        "colab": {
          "base_uri": "https://localhost:8080/"
        },
        "id": "qGiT30SnZUHy",
        "outputId": "b6d234e6-d99b-42bb-a849-e00ac5b94b50"
      },
      "outputs": [
        {
          "output_type": "stream",
          "name": "stdout",
          "text": [
            "33\n"
          ]
        }
      ],
      "source": [
        "import math\n",
        "def tinh_so_nam(von,lai_suat, muc_tieu):\n",
        "  return math.ceil(math.log(muc_tieu / von,1+ lai_suat/100))\n",
        "print(tinh_so_nam(10000000, 5.1, 50000000))"
      ]
    },
    {
      "cell_type": "code",
      "execution_count": 60,
      "metadata": {
        "colab": {
          "base_uri": "https://localhost:8080/"
        },
        "id": "695s0XbCah5m",
        "outputId": "82de7aea-ff6c-43ef-ff7e-ca4ec7c59261"
      },
      "outputs": [
        {
          "output_type": "stream",
          "name": "stdout",
          "text": [
            "Nhap vao so tuoi20\n",
            "Du tuoi di bau cu\n"
          ]
        }
      ],
      "source": [
        "age = int(input(\"Nhap vao so tuoi\"))\n",
        "\n",
        "if age >=18 and age <=100:\n",
        "  print(\"Du tuoi di bau cu\")\n",
        "elif age >100:\n",
        "  print(\"Co gi do sai sai\")\n",
        "\n",
        "else:\n",
        "  print(\"Khong du tuoi bau cu\")\n",
        "\n"
      ]
    },
    {
      "cell_type": "code",
      "execution_count": 61,
      "metadata": {
        "colab": {
          "base_uri": "https://localhost:8080/"
        },
        "id": "ciwrZ-MfeGKW",
        "outputId": "a1fd4403-abac-4090-cfdf-66b594e8754b"
      },
      "outputs": [
        {
          "output_type": "stream",
          "name": "stdout",
          "text": [
            "abcd\n"
          ]
        }
      ],
      "source": [
        "\n",
        "a = [\"a\",\"b\",\"c\",\"d\"]\n",
        "\n",
        "total = \"\"\n",
        "for temp in a:\n",
        "  total +=temp\n",
        "\n",
        "print(total)"
      ]
    },
    {
      "cell_type": "code",
      "execution_count": 62,
      "metadata": {
        "colab": {
          "base_uri": "https://localhost:8080/"
        },
        "id": "HEsiYMFbl_Aq",
        "outputId": "d28a00cf-9c2e-465f-b26d-a310d85291ad"
      },
      "outputs": [
        {
          "output_type": "stream",
          "name": "stdout",
          "text": [
            "0\n",
            "1\n",
            "2\n",
            "3\n",
            "4\n",
            "5\n",
            "6\n",
            "7\n",
            "8\n",
            "9\n"
          ]
        }
      ],
      "source": [
        "for i in range(10):\n",
        "  print(i)"
      ]
    },
    {
      "cell_type": "code",
      "execution_count": 63,
      "metadata": {
        "colab": {
          "base_uri": "https://localhost:8080/"
        },
        "id": "x9JptvaamN6E",
        "outputId": "2018615d-39ef-4b07-eb2c-b300a7918cd6"
      },
      "outputs": [
        {
          "output_type": "execute_result",
          "data": {
            "text/plain": [
              "range(0, 10)"
            ]
          },
          "metadata": {},
          "execution_count": 63
        }
      ],
      "source": [
        "range(10)"
      ]
    },
    {
      "cell_type": "code",
      "execution_count": 64,
      "metadata": {
        "colab": {
          "base_uri": "https://localhost:8080/"
        },
        "id": "_ts2-f7Lms8v",
        "outputId": "68df529b-0a76-4438-e54c-dfa2900d33ff"
      },
      "outputs": [
        {
          "output_type": "stream",
          "name": "stdout",
          "text": [
            "0\n",
            "2\n",
            "4\n",
            "6\n",
            "8\n"
          ]
        }
      ],
      "source": [
        "begin = 0\n",
        "end = 10\n",
        "step = 2\n",
        "for i in range(begin, end,step):\n",
        "  print(i)"
      ]
    },
    {
      "cell_type": "code",
      "execution_count": 65,
      "metadata": {
        "id": "CX3kzd7Tm5my",
        "colab": {
          "base_uri": "https://localhost:8080/",
          "height": 36
        },
        "outputId": "d8841979-127f-4061-ee30-62dbcb178c43"
      },
      "outputs": [
        {
          "output_type": "execute_result",
          "data": {
            "text/plain": [
              "'   *'"
            ],
            "application/vnd.google.colaboratory.intrinsic+json": {
              "type": "string"
            }
          },
          "metadata": {},
          "execution_count": 65
        }
      ],
      "source": [
        "\"   *\""
      ]
    },
    {
      "cell_type": "code",
      "execution_count": 66,
      "metadata": {
        "colab": {
          "base_uri": "https://localhost:8080/"
        },
        "id": "isXnBKSmoFp9",
        "outputId": "c73a51e9-f6f0-4580-9686-d2396cdc9f11"
      },
      "outputs": [
        {
          "output_type": "stream",
          "name": "stdout",
          "text": [
            "*   *\n"
          ]
        }
      ],
      "source": [
        "space = \" \"\n",
        "space = \" \"*3 +\"*\"\n",
        "print(\"*\", space,sep=\"\")\n"
      ]
    },
    {
      "cell_type": "code",
      "execution_count": 67,
      "metadata": {
        "colab": {
          "base_uri": "https://localhost:8080/"
        },
        "id": "cw6dR6XPq25r",
        "outputId": "bc7e5890-1de0-46fd-c8fb-ffc21c82b7f6"
      },
      "outputs": [
        {
          "output_type": "stream",
          "name": "stdout",
          "text": [
            "*   *"
          ]
        }
      ],
      "source": [
        "print(\"*\", end = \"\")\n",
        "print(\" \"*3+\"*\", end=\"\")"
      ]
    },
    {
      "cell_type": "code",
      "execution_count": 68,
      "metadata": {
        "colab": {
          "base_uri": "https://localhost:8080/"
        },
        "id": "zaYNdyg4sFpt",
        "outputId": "8b9f6e53-e5bb-4706-cfe7-773814c55f8e"
      },
      "outputs": [
        {
          "output_type": "stream",
          "name": "stdout",
          "text": [
            " * * * * * * * *"
          ]
        }
      ],
      "source": [
        "print(\" *\"*8, end=\"\")"
      ]
    },
    {
      "cell_type": "code",
      "execution_count": 69,
      "metadata": {
        "colab": {
          "base_uri": "https://localhost:8080/"
        },
        "id": "hO-hHbB_oNK9",
        "outputId": "978b984a-86f2-4789-c6e7-62af066790b5"
      },
      "outputs": [
        {
          "output_type": "stream",
          "name": "stdout",
          "text": [
            "*\n",
            "**\n",
            "* *\n",
            "*  *\n",
            "*   *\n",
            "*    *\n",
            "*     *\n",
            "********\n"
          ]
        }
      ],
      "source": [
        "n = 8\n",
        "for i in range(n):\n",
        "  print(\"*\", end=\"\")\n",
        "  for j in range(0,n):\n",
        "    if i == j and i!=0 and i!=n-1:\n",
        "      print(\" \"*(i-1)+\"*\", end=\"\")\n",
        "  if i == n-1:\n",
        "    print(\"*\"*i, end=\"\")\n",
        "  print()"
      ]
    },
    {
      "cell_type": "code",
      "execution_count": 70,
      "metadata": {
        "colab": {
          "base_uri": "https://localhost:8080/"
        },
        "id": "EjVjSMSzpHpB",
        "outputId": "06a50659-1e96-404c-ef0b-928978035ee0"
      },
      "outputs": [
        {
          "output_type": "stream",
          "name": "stdout",
          "text": [
            "*      \n",
            "**     \n",
            "* *    \n",
            "*  *   \n",
            "*   *  \n",
            "*    * \n",
            "*     *\n",
            "********\n"
          ]
        }
      ],
      "source": [
        "for i in range(n):\n",
        "  for j in range(n):\n",
        "    if j ==0:\n",
        "      print(\"*\", end=\"\")\n",
        "    elif j ==i:\n",
        "      print(\"*\", end=\"\")\n",
        "    elif i!=j and j!= n-1 and i!= n-1:\n",
        "      print(\" \",end=\"\")\n",
        "    if i == n-1 and j==n-1:\n",
        "      print(\"*\"*(i-1), end=\"\")\n",
        "  print()"
      ]
    },
    {
      "cell_type": "code",
      "execution_count": 71,
      "metadata": {
        "colab": {
          "base_uri": "https://localhost:8080/"
        },
        "id": "hv3z9dVWvSwf",
        "outputId": "0e6c50f7-1425-4596-911a-9f26d84cb1dc"
      },
      "outputs": [
        {
          "output_type": "stream",
          "name": "stdout",
          "text": [
            "*\n",
            "**\n",
            "* *\n",
            "*  *\n",
            "*   *\n",
            "*    *\n",
            "*     *\n",
            "********\n",
            "\n"
          ]
        }
      ],
      "source": [
        "for i in range(n):\n",
        "  print(\"*\", end=\"\")\n",
        "  if i>=1  and i !=n-1:\n",
        "    print(\" \"*(i-1)+\"*\", end=\"\")\n",
        "  elif i == n-1:\n",
        "    print(\"*\"*(i))\n",
        "  print()"
      ]
    },
    {
      "cell_type": "code",
      "execution_count": 72,
      "metadata": {
        "id": "DTcQGQKdwoRP"
      },
      "outputs": [],
      "source": [
        "so_nguyen = 10"
      ]
    },
    {
      "cell_type": "code",
      "execution_count": 73,
      "metadata": {
        "colab": {
          "base_uri": "https://localhost:8080/"
        },
        "id": "trgKvCnj_VRZ",
        "outputId": "ea688b5b-60b7-4292-c4af-809b894f99d8"
      },
      "outputs": [
        {
          "output_type": "execute_result",
          "data": {
            "text/plain": [
              "int"
            ]
          },
          "metadata": {},
          "execution_count": 73
        }
      ],
      "source": [
        "type(so_nguyen)"
      ]
    },
    {
      "cell_type": "code",
      "execution_count": 74,
      "metadata": {
        "colab": {
          "base_uri": "https://localhost:8080/"
        },
        "id": "0_Q004Xa_ZjW",
        "outputId": "154f18b2-9921-4905-c0a7-f7ebcb2796fb"
      },
      "outputs": [
        {
          "output_type": "execute_result",
          "data": {
            "text/plain": [
              "float"
            ]
          },
          "metadata": {},
          "execution_count": 74
        }
      ],
      "source": [
        "y = 10.0\n",
        "type(y)"
      ]
    },
    {
      "cell_type": "code",
      "execution_count": 75,
      "metadata": {
        "id": "fc0cPAcl_hqh"
      },
      "outputs": [],
      "source": [
        "str1=  \"hello\"\n",
        "str2= 'hello'\n",
        "str3= \"\"\"\n",
        "dong 1\n",
        "dong 2\n",
        "\n",
        "\"\"\""
      ]
    },
    {
      "cell_type": "code",
      "execution_count": 76,
      "metadata": {
        "colab": {
          "base_uri": "https://localhost:8080/"
        },
        "id": "mDbS_UHZ_vV_",
        "outputId": "88b50e6e-3d3d-411c-c48e-8fe4ca3a633b"
      },
      "outputs": [
        {
          "output_type": "stream",
          "name": "stdout",
          "text": [
            "c:\\teamview\n"
          ]
        }
      ],
      "source": [
        "str1= r\"c:\\teamview\"\n",
        "print(str1)"
      ]
    },
    {
      "cell_type": "markdown",
      "metadata": {
        "id": "EB1ZS0zNAR1P"
      },
      "source": [
        "Kiểu Số"
      ]
    },
    {
      "cell_type": "code",
      "execution_count": 77,
      "metadata": {
        "id": "GedYNUeo_68v"
      },
      "outputs": [],
      "source": [
        "x =10.0\n",
        "y =100e-1"
      ]
    },
    {
      "cell_type": "code",
      "execution_count": 78,
      "metadata": {
        "colab": {
          "base_uri": "https://localhost:8080/",
          "height": 36
        },
        "id": "iZT_uzneAyyu",
        "outputId": "53a33657-caca-4593-8f5b-62bb681c3472"
      },
      "outputs": [
        {
          "output_type": "execute_result",
          "data": {
            "text/plain": [
              "'0x4d2'"
            ],
            "application/vnd.google.colaboratory.intrinsic+json": {
              "type": "string"
            }
          },
          "metadata": {},
          "execution_count": 78
        }
      ],
      "source": [
        "y =1234\n",
        "bin(y)\n",
        "oct(y)\n",
        "hex(y)"
      ]
    },
    {
      "cell_type": "code",
      "execution_count": 79,
      "metadata": {
        "colab": {
          "base_uri": "https://localhost:8080/",
          "height": 36
        },
        "id": "CANwkTMbAzgY",
        "outputId": "a21176c5-6e5b-486f-a0e1-087a3d8fcf0f"
      },
      "outputs": [
        {
          "output_type": "execute_result",
          "data": {
            "text/plain": [
              "'0o112'"
            ],
            "application/vnd.google.colaboratory.intrinsic+json": {
              "type": "string"
            }
          },
          "metadata": {},
          "execution_count": 79
        }
      ],
      "source": [
        "y = 0b01001010\n",
        "str(y)\n",
        "oct(y)"
      ]
    },
    {
      "cell_type": "markdown",
      "metadata": {
        "id": "j-NKbdxpBhId"
      },
      "source": [
        "# Phép Toán"
      ]
    },
    {
      "cell_type": "code",
      "execution_count": 80,
      "metadata": {
        "colab": {
          "base_uri": "https://localhost:8080/"
        },
        "id": "zzWyxLYrBU0e",
        "outputId": "8bf6c5bf-08e0-4468-d18d-a78da1a4767d"
      },
      "outputs": [
        {
          "output_type": "execute_result",
          "data": {
            "text/plain": [
              "50"
            ]
          },
          "metadata": {},
          "execution_count": 80
        }
      ],
      "source": [
        "10*5"
      ]
    },
    {
      "cell_type": "code",
      "execution_count": 81,
      "metadata": {
        "colab": {
          "base_uri": "https://localhost:8080/"
        },
        "id": "veW5tXrdBmUP",
        "outputId": "624a2468-fe92-4164-8229-efbca53048ad"
      },
      "outputs": [
        {
          "output_type": "execute_result",
          "data": {
            "text/plain": [
              "3.3333333333333335"
            ]
          },
          "metadata": {},
          "execution_count": 81
        }
      ],
      "source": [
        "10/3"
      ]
    },
    {
      "cell_type": "code",
      "execution_count": 82,
      "metadata": {
        "colab": {
          "base_uri": "https://localhost:8080/"
        },
        "id": "9KXqbKL8Bn3D",
        "outputId": "86a1c000-050a-4e5e-c8fe-8a78f148bcf6"
      },
      "outputs": [
        {
          "output_type": "execute_result",
          "data": {
            "text/plain": [
              "3"
            ]
          },
          "metadata": {},
          "execution_count": 82
        }
      ],
      "source": [
        "10//3"
      ]
    },
    {
      "cell_type": "code",
      "execution_count": 82,
      "metadata": {
        "id": "GIyBXzY4BtJG"
      },
      "outputs": [],
      "source": []
    }
  ],
  "metadata": {
    "colab": {
      "provenance": [],
      "include_colab_link": true
    },
    "kernelspec": {
      "display_name": "Python 3",
      "name": "python3"
    },
    "language_info": {
      "name": "python"
    }
  },
  "nbformat": 4,
  "nbformat_minor": 0
}